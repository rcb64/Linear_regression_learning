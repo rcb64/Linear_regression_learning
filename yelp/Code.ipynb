{
 "cells": [
  {
   "cell_type": "code",
   "execution_count": null,
   "metadata": {},
   "outputs": [
    {
     "name": "stdout",
     "output_type": "stream",
     "text": [
      "3.605551275463989\n",
      "7.810249675906654\n",
      "5\n",
      "13\n",
      "1\n",
      "2\n",
      "3.605551275463989\n",
      "5\n",
      "0.6666666666666666\n",
      "1\n"
     ]
    }
   ],
   "source": [
    "import numpy as np\n",
    "from scipy.spatial import distance\n",
    "\n",
    "def euclidean_distance(pt1, pt2):\n",
    "    # Check if points have the same dimensions\n",
    "    if len(pt1) != len(pt2):\n",
    "        print('Points need to have the same dimensions!')\n",
    "        return None\n",
    "    distance = 0\n",
    "    for i in range(len(pt1)):\n",
    "        distance += (pt1[i] - pt2[i]) ** 2\n",
    "    \n",
    "    return distance ** 0.5  \n",
    "print (euclidean_distance([1,2], [4,0]))\n",
    "print (euclidean_distance([5,4,3], [1,7,9]))\n",
    "\n",
    "def manhattan_distance(pt1, pt2):\n",
    "  distance = 0\n",
    "  for i in range(len(pt1)):\n",
    "    distance += abs(pt1[i] - pt2[i])\n",
    "  return distance\n",
    "print (manhattan_distance([1,2], [4,0]))\n",
    "print (manhattan_distance([5,4,3], [1,7,9]))\n",
    "\n",
    "def hamming_distance(pt1, pt2):\n",
    "  distance = 0\n",
    "  for i in range(len(pt1)):\n",
    "    if pt1[i] != pt2[i]:\n",
    "      distance += 1\n",
    "  return distance\n",
    "print (hamming_distance([1,2], [1,100]))\n",
    "print (hamming_distance([5,4,9], [1,7,9]))\n",
    "print(distance.euclidean([1, 2], [4, 0]))\n",
    "print(distance.cityblock([1, 2], [4, 0]))\n",
    "print(distance.hamming([5, 4, 9], [1, 7, 9])) # divides by the number of dimensions so different result\n",
    "\n",
    "\n",
    "# k nearest neighbours\n",
    "star_wars = [125, 1977]\n",
    "raiders = [115, 1981]\n",
    "mean_girls = [97, 2004]\n",
    "def distance(movie1, movie2):\n",
    "  x = (movie1[0] - movie2[0]) ** 2 + (movie1[1] - movie2[1]) ** 2\n",
    "  return x ** 0.5\n",
    "\n",
    "# and for n dimensions: \n",
    "def distance_n(movie1, movie2):\n",
    "  length_difference = 0\n",
    "  for i in range(len(movie1)):\n",
    "    length_difference += (movie1[i] - movie2[i]) ** 2\n",
    "  return length_difference ** 0.5\n",
    "\n",
    "release_dates = [1897, 1998, 2000, 1948, 1962, 1950, 1975, 1960, 2017, 1937, 1968, 1996, 1944, 1891, 1995, 1948, 2011, 1965, 1891, 1978]\n",
    "\n",
    "def min_max_normalize(lst):\n",
    "  minimum = min(lst)\n",
    "  maximum = max(lst)\n",
    "  a = maximum - minimum\n",
    "  normalized = []\n",
    "  for i in range(len(lst)):\n",
    "    normalized.append((lst[i] - minimum) / a)\n",
    "  return normalized\n",
    "\n",
    "\n"
   ]
  }
 ],
 "metadata": {
  "kernelspec": {
   "display_name": "base",
   "language": "python",
   "name": "python3"
  },
  "language_info": {
   "codemirror_mode": {
    "name": "ipython",
    "version": 3
   },
   "file_extension": ".py",
   "mimetype": "text/x-python",
   "name": "python",
   "nbconvert_exporter": "python",
   "pygments_lexer": "ipython3",
   "version": "3.11.5"
  }
 },
 "nbformat": 4,
 "nbformat_minor": 2
}
